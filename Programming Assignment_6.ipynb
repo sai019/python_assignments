{
 "cells": [
  {
   "cell_type": "markdown",
   "id": "84a41a9f",
   "metadata": {},
   "source": [
    "# Programming Basic Assignment 6"
   ]
  },
  {
   "cell_type": "markdown",
   "id": "a4b40558",
   "metadata": {},
   "source": [
    "------------\n",
    "### 1. Write a Python Program to Display Fibonacci Sequence Using Recursion?"
   ]
  },
  {
   "cell_type": "code",
   "execution_count": 13,
   "id": "e1b8420c",
   "metadata": {},
   "outputs": [],
   "source": [
    "def fibo(a,b,c):\n",
    "    if c > 0:\n",
    "        c -= 1\n",
    "        print(a, end=' ')\n",
    "        temp = b\n",
    "        b = a + b\n",
    "        a = temp\n",
    "        fibo(a,b,c)"
   ]
  },
  {
   "cell_type": "code",
   "execution_count": 14,
   "id": "4dee60ad",
   "metadata": {},
   "outputs": [
    {
     "name": "stdout",
     "output_type": "stream",
     "text": [
      "0 1 1 2 3 5 8 13 21 34 "
     ]
    }
   ],
   "source": [
    "fibo(0,1,10)"
   ]
  },
  {
   "cell_type": "markdown",
   "id": "d7a57f60",
   "metadata": {},
   "source": [
    "-------------------\n",
    "### 2. Write a Python Program to Find Factorial of Number Using Recursion?"
   ]
  },
  {
   "cell_type": "code",
   "execution_count": 16,
   "id": "2cdea8e5",
   "metadata": {},
   "outputs": [],
   "source": [
    "def fact(n):\n",
    "    if n == 0:\n",
    "        return 1\n",
    "    else:\n",
    "        return n*fact(n-1)"
   ]
  },
  {
   "cell_type": "code",
   "execution_count": 18,
   "id": "fc5ec589",
   "metadata": {},
   "outputs": [
    {
     "data": {
      "text/plain": [
       "120"
      ]
     },
     "execution_count": 18,
     "metadata": {},
     "output_type": "execute_result"
    }
   ],
   "source": [
    "fact(5)"
   ]
  },
  {
   "cell_type": "code",
   "execution_count": 19,
   "id": "9cc54ac2",
   "metadata": {},
   "outputs": [
    {
     "data": {
      "text/plain": [
       "5040"
      ]
     },
     "execution_count": 19,
     "metadata": {},
     "output_type": "execute_result"
    }
   ],
   "source": [
    "fact(7)"
   ]
  },
  {
   "cell_type": "markdown",
   "id": "0357b86f",
   "metadata": {},
   "source": [
    "-------------\n",
    "### 3. Write a Python Program to calculate your Body Mass Index?"
   ]
  },
  {
   "cell_type": "code",
   "execution_count": 24,
   "id": "ae7411ea",
   "metadata": {},
   "outputs": [],
   "source": [
    "def bmi(height, weight):\n",
    "    \n",
    "    return weight/(height*height)"
   ]
  },
  {
   "cell_type": "code",
   "execution_count": 26,
   "id": "b1ef7685",
   "metadata": {},
   "outputs": [
    {
     "data": {
      "text/plain": [
       "21.604938271604937"
      ]
     },
     "execution_count": 26,
     "metadata": {},
     "output_type": "execute_result"
    }
   ],
   "source": [
    "bmi(1.8, 70)"
   ]
  },
  {
   "cell_type": "markdown",
   "id": "96d344a4",
   "metadata": {},
   "source": [
    "--------------\n",
    "### 4. Write a Python Program to calculate the natural logarithm of any number?"
   ]
  },
  {
   "cell_type": "code",
   "execution_count": 30,
   "id": "967b521c",
   "metadata": {},
   "outputs": [
    {
     "name": "stdout",
     "output_type": "stream",
     "text": [
      "Enter the number: 14\n",
      "2.6390573296152584\n"
     ]
    }
   ],
   "source": [
    "import math\n",
    "\n",
    "try:\n",
    "    num = int(input(\"Enter the number: \"))\n",
    "except Exception as e:\n",
    "    print(e)\n",
    "else:\n",
    "    print(math.log(num))"
   ]
  },
  {
   "cell_type": "markdown",
   "id": "11c0d92c",
   "metadata": {},
   "source": [
    "------------\n",
    "### 5. Write a Python Program for cube sum of first n natural numbers?\n"
   ]
  },
  {
   "cell_type": "code",
   "execution_count": 15,
   "id": "b85b9140",
   "metadata": {},
   "outputs": [],
   "source": [
    "def cube_sum(n):\n",
    " \n",
    "    result = 0\n",
    "    \n",
    "    for i in range(1, n+1):\n",
    "        result += i**3\n",
    "    \n",
    "    return result\n"
   ]
  },
  {
   "cell_type": "code",
   "execution_count": 16,
   "id": "65a077af",
   "metadata": {},
   "outputs": [
    {
     "data": {
      "text/plain": [
       "100"
      ]
     },
     "execution_count": 16,
     "metadata": {},
     "output_type": "execute_result"
    }
   ],
   "source": [
    "cube_sum(4)"
   ]
  },
  {
   "cell_type": "code",
   "execution_count": null,
   "id": "a31a80bc",
   "metadata": {},
   "outputs": [],
   "source": []
  }
 ],
 "metadata": {
  "kernelspec": {
   "display_name": "Python 3 (ipykernel)",
   "language": "python",
   "name": "python3"
  },
  "language_info": {
   "codemirror_mode": {
    "name": "ipython",
    "version": 3
   },
   "file_extension": ".py",
   "mimetype": "text/x-python",
   "name": "python",
   "nbconvert_exporter": "python",
   "pygments_lexer": "ipython3",
   "version": "3.9.13"
  }
 },
 "nbformat": 4,
 "nbformat_minor": 5
}
