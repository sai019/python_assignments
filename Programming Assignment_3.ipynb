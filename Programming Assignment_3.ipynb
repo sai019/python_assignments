{
 "cells": [
  {
   "cell_type": "markdown",
   "id": "ad3c798a",
   "metadata": {},
   "source": [
    "## Programming Assignment_3\n",
    "----------------"
   ]
  },
  {
   "cell_type": "markdown",
   "id": "fdeb4706",
   "metadata": {},
   "source": [
    "### 1. Write a Python Program to Check if a Number is Positive, Negative or Zero?\n",
    "##### Sol."
   ]
  },
  {
   "cell_type": "code",
   "execution_count": 2,
   "id": "09c3bcc9",
   "metadata": {},
   "outputs": [
    {
     "name": "stdout",
     "output_type": "stream",
     "text": [
      "10 is Positive\n"
     ]
    }
   ],
   "source": [
    "num = 10\n",
    "\n",
    "if(num > 0):\n",
    "    print(num, \"is Positive\")\n",
    "elif(num < 0):\n",
    "    print(num, \"is Negative\")\n",
    "else:\n",
    "    print(num, \"is Zero\")"
   ]
  },
  {
   "cell_type": "code",
   "execution_count": 3,
   "id": "e928173c",
   "metadata": {},
   "outputs": [
    {
     "name": "stdout",
     "output_type": "stream",
     "text": [
      "0 is Zero\n"
     ]
    }
   ],
   "source": [
    "num = 0\n",
    "\n",
    "if(num > 0):\n",
    "    print(num, \"is Positive\")\n",
    "elif(num < 0):\n",
    "    print(num, \"is Negative\")\n",
    "else:\n",
    "    print(num, \"is Zero\")"
   ]
  },
  {
   "cell_type": "markdown",
   "id": "086bfded",
   "metadata": {},
   "source": [
    "### 2. Write a Python Program to Check if a Number is Odd or Even?\n",
    "##### Sol."
   ]
  },
  {
   "cell_type": "code",
   "execution_count": 7,
   "id": "de1841dc",
   "metadata": {},
   "outputs": [
    {
     "name": "stdout",
     "output_type": "stream",
     "text": [
      "Enter a number: 1234\n",
      "1234 is a Even Nummber\n"
     ]
    }
   ],
   "source": [
    "num = int(input(\"Enter a number: \"))\n",
    "\n",
    "if(num % 2 == 0):\n",
    "    print(num, \"is a Even Nummber\")\n",
    "else:\n",
    "    print(num, \"is an Odd Number\")"
   ]
  },
  {
   "cell_type": "code",
   "execution_count": 8,
   "id": "d5f31dcd",
   "metadata": {},
   "outputs": [
    {
     "name": "stdout",
     "output_type": "stream",
     "text": [
      "Enter a number: 121\n",
      "121 is an Odd Number\n"
     ]
    }
   ],
   "source": [
    "num = int(input(\"Enter a number: \"))\n",
    "\n",
    "if(num % 2 == 0):\n",
    "    print(num, \"is a Even Nummber\")\n",
    "else:\n",
    "    print(num, \"is an Odd Number\")"
   ]
  },
  {
   "cell_type": "markdown",
   "id": "575e4f94",
   "metadata": {},
   "source": [
    "### 3. Write a Python Program to Check Leap Year?\n",
    "##### Sol."
   ]
  },
  {
   "cell_type": "code",
   "execution_count": 14,
   "id": "a4f73839",
   "metadata": {},
   "outputs": [
    {
     "name": "stdout",
     "output_type": "stream",
     "text": [
      "Leap Year\n"
     ]
    }
   ],
   "source": [
    "year = 2020\n",
    "\n",
    "if(((year % 4 == 0) and (year % 100 != 0)) or (year % 400 == 0)):\n",
    "    print(\"Leap Year\")\n",
    "else:\n",
    "    print(\"Not a Leap Year\")"
   ]
  },
  {
   "cell_type": "markdown",
   "id": "aa83ce63",
   "metadata": {},
   "source": [
    "### 4. Write a Python Program to Check Prime Number?\n",
    "##### Sol."
   ]
  },
  {
   "cell_type": "code",
   "execution_count": 20,
   "id": "b557b47c",
   "metadata": {},
   "outputs": [
    {
     "name": "stdout",
     "output_type": "stream",
     "text": [
      "Enter a number: 101\n",
      "101 is prime number\n"
     ]
    }
   ],
   "source": [
    "num = int(input(\"Enter a number: \"))\n",
    "\n",
    "isPrime = True\n",
    "\n",
    "if num <= 1:\n",
    "    print(num, \"is neither prime nor composite\")\n",
    "else:\n",
    "    d = 2\n",
    "    while(d*d <= num):\n",
    "        if(num%d==0):\n",
    "            isPrime = False\n",
    "            break\n",
    "        d = d + 1\n",
    "\n",
    "if(num > 1):\n",
    "    if(isPrime):\n",
    "        print(num, \"is prime number\")\n",
    "    else:\n",
    "        print(num, \"is not prime number\")\n",
    "        "
   ]
  }
 ],
 "metadata": {
  "kernelspec": {
   "display_name": "Python 3 (ipykernel)",
   "language": "python",
   "name": "python3"
  },
  "language_info": {
   "codemirror_mode": {
    "name": "ipython",
    "version": 3
   },
   "file_extension": ".py",
   "mimetype": "text/x-python",
   "name": "python",
   "nbconvert_exporter": "python",
   "pygments_lexer": "ipython3",
   "version": "3.9.7"
  }
 },
 "nbformat": 4,
 "nbformat_minor": 5
}
