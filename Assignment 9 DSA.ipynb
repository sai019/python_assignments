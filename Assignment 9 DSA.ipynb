{
 "cells": [
  {
   "cell_type": "markdown",
   "id": "6068686e",
   "metadata": {},
   "source": [
    "# Q.1\n",
    "\n",
    "Given an integer `n`, return *`true` if it is a power of two. Otherwise, return `false`*.\n",
    "\n",
    "An integer `n` is a power of two, if there exists an integer `x` such that `n == 2x`.\n",
    "\n",
    "**Example 1:**\n",
    "Input: n = 1 \n",
    "\n",
    "Output: true\n",
    "\n",
    "**Example 2:**\n",
    "Input: n = 16 \n",
    "\n",
    "Output: true\n",
    "\n",
    "**Example 3:**\n",
    "Input: n = 3 \n",
    "\n",
    "Output: false"
   ]
  },
  {
   "cell_type": "code",
   "execution_count": 1,
   "id": "e1c436d9",
   "metadata": {},
   "outputs": [],
   "source": [
    "def powertwo(n):\n",
    "    if n <= 0:\n",
    "        return False\n",
    "    return (n & (n - 1)) == 0"
   ]
  },
  {
   "cell_type": "code",
   "execution_count": 2,
   "id": "e19588d3",
   "metadata": {},
   "outputs": [
    {
     "data": {
      "text/plain": [
       "True"
      ]
     },
     "execution_count": 2,
     "metadata": {},
     "output_type": "execute_result"
    }
   ],
   "source": [
    "powertwo(4)"
   ]
  },
  {
   "cell_type": "markdown",
   "id": "8eb640f1",
   "metadata": {},
   "source": [
    "# Q.2\n",
    "\n",
    "Given a number n, find the sum of the first natural numbers.\n",
    "\n",
    "**Example 1:**\n",
    "\n",
    "Input: n = 3 \n",
    "\n",
    "Output: 6\n",
    "\n",
    "**Example 2:**\n",
    "\n",
    "Input  : 5 \n",
    "\n",
    "Output : 15"
   ]
  },
  {
   "cell_type": "code",
   "execution_count": 3,
   "id": "fcc38fa6",
   "metadata": {},
   "outputs": [],
   "source": [
    "def sum(n):\n",
    "    if n == 0:\n",
    "        return 0\n",
    "    return n + sum(n-1)"
   ]
  },
  {
   "cell_type": "code",
   "execution_count": 4,
   "id": "100ef45f",
   "metadata": {},
   "outputs": [
    {
     "data": {
      "text/plain": [
       "15"
      ]
     },
     "execution_count": 4,
     "metadata": {},
     "output_type": "execute_result"
    }
   ],
   "source": [
    "sum(5)"
   ]
  },
  {
   "cell_type": "markdown",
   "id": "2561f3d8",
   "metadata": {},
   "source": [
    "# Q.3\n",
    "\n",
    "****Given a positive integer, N. Find the factorial of N. \n",
    "\n",
    "**Example 1:**\n",
    "\n",
    "Input: N = 5 \n",
    "\n",
    "Output: 120\n",
    "\n",
    "**Example 2:**\n",
    "\n",
    "Input: N = 4\n",
    "\n",
    "Output: 24"
   ]
  },
  {
   "cell_type": "code",
   "execution_count": 5,
   "id": "876efe68",
   "metadata": {},
   "outputs": [],
   "source": [
    "def factorial(n):\n",
    "    if n == 0 or n == 1:\n",
    "        return 1\n",
    "    return n * factorial(n-1)"
   ]
  },
  {
   "cell_type": "code",
   "execution_count": 6,
   "id": "aaed7131",
   "metadata": {},
   "outputs": [
    {
     "data": {
      "text/plain": [
       "24"
      ]
     },
     "execution_count": 6,
     "metadata": {},
     "output_type": "execute_result"
    }
   ],
   "source": [
    "factorial(4)"
   ]
  },
  {
   "cell_type": "markdown",
   "id": "93caf76a",
   "metadata": {},
   "source": [
    "# Q.4\n",
    "\n",
    "Given a number N and a power P, the task is to find the exponent of this number raised to the given power, i.e. N^P.\n",
    "\n",
    "**Example 1 :** \n",
    "\n",
    "Input: N = 5, P = 2\n",
    "\n",
    "Output: 25\n",
    "\n",
    "**Example 2 :**\n",
    "Input: N = 2, P = 5\n",
    "\n",
    "Output: 32"
   ]
  },
  {
   "cell_type": "code",
   "execution_count": 7,
   "id": "c12e379f",
   "metadata": {},
   "outputs": [],
   "source": [
    "def exponent(n,p):\n",
    "    if p == 0 :\n",
    "        return 1\n",
    "    return (n*exponent(n,p-1))"
   ]
  },
  {
   "cell_type": "code",
   "execution_count": 8,
   "id": "07f0168e",
   "metadata": {},
   "outputs": [
    {
     "data": {
      "text/plain": [
       "25"
      ]
     },
     "execution_count": 8,
     "metadata": {},
     "output_type": "execute_result"
    }
   ],
   "source": [
    "n = 5\n",
    "p = 2\n",
    "exponent(n,p)"
   ]
  },
  {
   "cell_type": "markdown",
   "id": "99193b0f",
   "metadata": {},
   "source": [
    "# Q.5\n",
    "\n",
    "Given an array of integers **arr**, the task is to find maximum element of that array using recursion.\n",
    "\n",
    "**Example 1:**\n",
    "\n",
    "Input: arr = {1, 4, 3, -5, -4, 8, 6};\n",
    "Output: 8\n",
    "\n",
    "**Example 2:**\n",
    "\n",
    "Input: arr = {1, 4, 45, 6, 10, -8};\n",
    "Output: 45"
   ]
  },
  {
   "cell_type": "code",
   "execution_count": 19,
   "id": "aad2f25a",
   "metadata": {},
   "outputs": [],
   "source": [
    "def max_arr(arr, n):\n",
    "    if n == 1:\n",
    "        return arr[0]\n",
    "    max_num = max_arr(arr, n - 1)\n",
    "   \n",
    "    return max(max_num, arr[n - 1] )  "
   ]
  },
  {
   "cell_type": "code",
   "execution_count": 20,
   "id": "ee9b31cb",
   "metadata": {},
   "outputs": [],
   "source": [
    "arr = [1,4,3,-5,-4,8,6]\n",
    "n = len(arr)"
   ]
  },
  {
   "cell_type": "code",
   "execution_count": 22,
   "id": "111a173b",
   "metadata": {},
   "outputs": [
    {
     "data": {
      "text/plain": [
       "8"
      ]
     },
     "execution_count": 22,
     "metadata": {},
     "output_type": "execute_result"
    }
   ],
   "source": [
    "max_arr(arr,n)"
   ]
  },
  {
   "cell_type": "markdown",
   "id": "c9ba96c4",
   "metadata": {},
   "source": [
    "# Q.8\n",
    "\n",
    "Given an array, find a product of all array elements.\n",
    "\n",
    "**Example 1:**\n",
    "\n",
    "Input  : arr[] = {1, 2, 3, 4, 5}\n",
    "Output : 120\n",
    "**Example 2:**\n",
    "\n",
    "Input  : arr[] = {1, 6, 3}\n",
    "Output : 18"
   ]
  },
  {
   "cell_type": "code",
   "execution_count": 24,
   "id": "8bc191d1",
   "metadata": {},
   "outputs": [],
   "source": [
    "def productOfArray(arr, n):\n",
    "    if n == 0:\n",
    "        return 1\n",
    "\n",
    "    return arr[n - 1] * productOfArray(arr, n - 1)\n"
   ]
  },
  {
   "cell_type": "code",
   "execution_count": 25,
   "id": "977098ef",
   "metadata": {},
   "outputs": [],
   "source": [
    "arr = [1,2,3,4,5]\n",
    "n = len(arr)"
   ]
  },
  {
   "cell_type": "code",
   "execution_count": 29,
   "id": "544951b4",
   "metadata": {},
   "outputs": [
    {
     "data": {
      "text/plain": [
       "120"
      ]
     },
     "execution_count": 29,
     "metadata": {},
     "output_type": "execute_result"
    }
   ],
   "source": [
    "productOfArray(arr,n)"
   ]
  },
  {
   "cell_type": "code",
   "execution_count": null,
   "id": "d0d0dcb2",
   "metadata": {},
   "outputs": [],
   "source": []
  }
 ],
 "metadata": {
  "kernelspec": {
   "display_name": "Python 3 (ipykernel)",
   "language": "python",
   "name": "python3"
  },
  "language_info": {
   "codemirror_mode": {
    "name": "ipython",
    "version": 3
   },
   "file_extension": ".py",
   "mimetype": "text/x-python",
   "name": "python",
   "nbconvert_exporter": "python",
   "pygments_lexer": "ipython3",
   "version": "3.11.2"
  }
 },
 "nbformat": 4,
 "nbformat_minor": 5
}
