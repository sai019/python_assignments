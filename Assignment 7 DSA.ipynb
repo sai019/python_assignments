{
 "cells": [
  {
   "cell_type": "markdown",
   "id": "dbfbf119",
   "metadata": {},
   "source": [
    "# Q1.\n",
    "Given two strings s and t, *determine if they are isomorphic*.\n",
    "\n",
    "Two strings s and t are isomorphic if the characters in s can be replaced to get t.\n",
    "\n",
    "All occurrences of a character must be replaced with another character while preserving the order of characters. No two characters may map to the same character, but a character may map to itself.\n",
    "\n",
    "**Example 1:**\n",
    "\n",
    "**Input:** s = \"egg\", t = \"add\"\n",
    "\n",
    "**Output:** true"
   ]
  },
  {
   "cell_type": "code",
   "execution_count": 17,
   "id": "4df81e33",
   "metadata": {},
   "outputs": [],
   "source": [
    "def isomorphic(s, t):\n",
    "    s_map = {}\n",
    "    t_map = {}\n",
    "    \n",
    "    for i in range(len(s)):\n",
    "        if s[i] in s_map and t[i] in t_map:\n",
    "            if s_map[s[i]] != t[i] or t_map[t[i]] != s[i]:\n",
    "                return False\n",
    "        elif s[i] in s_map or t[i] in t_map:\n",
    "            return False\n",
    "        else:\n",
    "            s_map[s[i]] = t[i]\n",
    "            t_map[t[i]] = s[i]\n",
    "    \n",
    "    return True"
   ]
  },
  {
   "cell_type": "code",
   "execution_count": 18,
   "id": "b2fc8a5c",
   "metadata": {},
   "outputs": [],
   "source": [
    "s = \"egg\"\n",
    "t = \"add\""
   ]
  },
  {
   "cell_type": "code",
   "execution_count": 19,
   "id": "6c7230bf",
   "metadata": {},
   "outputs": [
    {
     "data": {
      "text/plain": [
       "True"
      ]
     },
     "execution_count": 19,
     "metadata": {},
     "output_type": "execute_result"
    }
   ],
   "source": [
    "isomorphic(s,t)"
   ]
  },
  {
   "cell_type": "markdown",
   "id": "befa7366",
   "metadata": {},
   "source": [
    "# Q2.\n",
    "Given a string num which represents an integer, return true *if* num *is a **strobogrammatic number***.\n",
    "\n",
    "A **strobogrammatic number** is a number that looks the same when rotated 180 degrees (looked at upside down).\n",
    "\n",
    "**Example 1:**\n",
    "\n",
    "**Input:** num = \"69\"\n",
    "\n",
    "**Output:**\n",
    "\n",
    "true"
   ]
  },
  {
   "cell_type": "code",
   "execution_count": 24,
   "id": "eae913cc",
   "metadata": {},
   "outputs": [],
   "source": [
    "def strobogrammatic(num):\n",
    "    d = { '0': '0',\n",
    "          '1': '1',\n",
    "          '8': '8',\n",
    "          '6': '9',\n",
    "          '9': '6'\n",
    "    }\n",
    "    l = 0\n",
    "    r = len(num) - 1\n",
    "    while l<=r:\n",
    "        if num[l] not in d:\n",
    "            return False\n",
    "        \n",
    "        l += 1\n",
    "        r -= 1\n",
    "        \n",
    "    return True    "
   ]
  },
  {
   "cell_type": "code",
   "execution_count": 27,
   "id": "886d584d",
   "metadata": {},
   "outputs": [
    {
     "data": {
      "text/plain": [
       "True"
      ]
     },
     "execution_count": 27,
     "metadata": {},
     "output_type": "execute_result"
    }
   ],
   "source": [
    "num = '69'\n",
    "strobogrammatic(num)"
   ]
  },
  {
   "cell_type": "markdown",
   "id": "f8f2c769",
   "metadata": {},
   "source": [
    "# Q.4\n",
    "\n",
    "Given a string s, reverse the order of characters in each word within a sentence while still preserving whitespace and initial word order.\n",
    "\n",
    "**Example 1:**\n",
    "\n",
    "**Input:** s = \"Let's take LeetCode contest\"\n",
    "\n",
    "**Output:** \"s'teL ekat edoCteeL tsetnoc\"\n"
   ]
  },
  {
   "cell_type": "code",
   "execution_count": 48,
   "id": "558945c2",
   "metadata": {},
   "outputs": [],
   "source": [
    "def reverse(s):\n",
    "    words = s.split()\n",
    "    result = []\n",
    "    for i in words:\n",
    "        result.append(i[::-1])\n",
    "        result.append(\" \")\n",
    "        \n",
    "    return \"\".join(result).strip()    \n",
    "          "
   ]
  },
  {
   "cell_type": "code",
   "execution_count": 49,
   "id": "e0d29468",
   "metadata": {},
   "outputs": [
    {
     "data": {
      "text/plain": [
       "\"s'teL ekat edoCteeL tsetnoc\""
      ]
     },
     "execution_count": 49,
     "metadata": {},
     "output_type": "execute_result"
    }
   ],
   "source": [
    "s = \"Let's take LeetCode contest\"\n",
    "reverse(s)"
   ]
  },
  {
   "cell_type": "markdown",
   "id": "b797f207",
   "metadata": {},
   "source": [
    "# Q5\n",
    "Given a string s and an integer k, reverse the first k characters for every 2k characters counting from the start of the string.\n",
    "\n",
    "If there are fewer than k characters left, reverse all of them. If there are less than 2k but greater than or equal to k characters, then reverse the first k characters and leave the other as original.\n",
    "\n",
    "**Example 1:**\n",
    "\n",
    "**Input:** s = \"abcdefg\", k = 2\n",
    "\n",
    "**Output:**\n",
    "\n",
    "\"bacdfeg\""
   ]
  },
  {
   "cell_type": "code",
   "execution_count": 4,
   "id": "3fc55b94",
   "metadata": {},
   "outputs": [],
   "source": [
    "def reverse_k_char(s,k):\n",
    "    if k >= len(s):\n",
    "        s[::-1]\n",
    "        \n",
    "    s = list(s)\n",
    "    for chars in range(0,len(s),2*k):\n",
    "        s[chars:chars+k] = (s[chars:chars+k])[::-1]\n",
    "    return \"\".join(s)    "
   ]
  },
  {
   "cell_type": "code",
   "execution_count": 5,
   "id": "951c10a9",
   "metadata": {},
   "outputs": [],
   "source": [
    "s = \"abcdefg\"\n",
    "k = 2"
   ]
  },
  {
   "cell_type": "code",
   "execution_count": 6,
   "id": "2735c79c",
   "metadata": {},
   "outputs": [
    {
     "data": {
      "text/plain": [
       "'bacdfeg'"
      ]
     },
     "execution_count": 6,
     "metadata": {},
     "output_type": "execute_result"
    }
   ],
   "source": [
    "reverse_k_char(s,k)"
   ]
  },
  {
   "cell_type": "markdown",
   "id": "f6026f58",
   "metadata": {},
   "source": [
    "# Q6\n",
    "Given two strings s and goal, return true *if and only if* s *can become* goal *after some number of **shifts** on* s.\n",
    "\n",
    "A **shift** on s consists of moving the leftmost character of s to the rightmost position.\n",
    "\n",
    "- For example, if s = \"abcde\", then it will be \"bcdea\" after one shift.\n",
    "\n",
    "**Example 1:**\n",
    "\n",
    "**Input:** s = \"abcde\", goal = \"cdeab\"\n",
    "\n",
    "**Output:**\n",
    "\n",
    "true"
   ]
  },
  {
   "cell_type": "code",
   "execution_count": 12,
   "id": "b9f4398c",
   "metadata": {},
   "outputs": [],
   "source": [
    "def rotate(s,goal):\n",
    "    return len(s) == len(goal) and s in goal + goal"
   ]
  },
  {
   "cell_type": "code",
   "execution_count": 13,
   "id": "6219fe4f",
   "metadata": {},
   "outputs": [],
   "source": [
    "s = \"abcde\"\n",
    "goal = \"cdeab\""
   ]
  },
  {
   "cell_type": "code",
   "execution_count": 14,
   "id": "07718a7c",
   "metadata": {},
   "outputs": [
    {
     "data": {
      "text/plain": [
       "True"
      ]
     },
     "execution_count": 14,
     "metadata": {},
     "output_type": "execute_result"
    }
   ],
   "source": [
    "rotate(s,goal)"
   ]
  }
 ],
 "metadata": {
  "kernelspec": {
   "display_name": "Python 3 (ipykernel)",
   "language": "python",
   "name": "python3"
  },
  "language_info": {
   "codemirror_mode": {
    "name": "ipython",
    "version": 3
   },
   "file_extension": ".py",
   "mimetype": "text/x-python",
   "name": "python",
   "nbconvert_exporter": "python",
   "pygments_lexer": "ipython3",
   "version": "3.11.2"
  }
 },
 "nbformat": 4,
 "nbformat_minor": 5
}
