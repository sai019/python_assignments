{
 "cells": [
  {
   "cell_type": "markdown",
   "id": "84fd1c70",
   "metadata": {},
   "source": [
    "# Q1. Given an array of integers nums and an integer target, return indices of the two numbers such that they add up to target.\n",
    "\n",
    "You may assume that each input would have exactly one solution, and you may not use the same element twice.\n",
    "\n",
    "You can return the answer in any order.\n",
    "\n",
    "**Example:**\n",
    "Input: nums = [2,7,11,15], target = 9\n",
    "Output0 [0,1]\n",
    "\n",
    "**Explanation:** Because nums[0] + nums[1] == 9, we return [0, 1]"
   ]
  },
  {
   "cell_type": "code",
   "execution_count": 5,
   "id": "92734041",
   "metadata": {},
   "outputs": [],
   "source": [
    "nums = [2,7,11,15]\n",
    "target = 9"
   ]
  },
  {
   "cell_type": "code",
   "execution_count": 6,
   "id": "19965fdb",
   "metadata": {},
   "outputs": [],
   "source": [
    "def twosum(nums,target):\n",
    "\n",
    "    for i in range(len(nums)):\n",
    "        for j in range(i+1,len(nums)):\n",
    "            sum = nums[i] + nums[j]\n",
    "            if sum == target :\n",
    "                return[i, j]\n",
    "            else :\n",
    "                return []"
   ]
  },
  {
   "cell_type": "code",
   "execution_count": 7,
   "id": "ad493d0a",
   "metadata": {},
   "outputs": [
    {
     "data": {
      "text/plain": [
       "[0, 1]"
      ]
     },
     "execution_count": 7,
     "metadata": {},
     "output_type": "execute_result"
    }
   ],
   "source": [
    "twosum(nums,target)"
   ]
  },
  {
   "cell_type": "markdown",
   "id": "d2c5534f",
   "metadata": {},
   "source": [
    "# Q3. Given a sorted array of distinct integers and a target value, return the index if the target is found. If not, return the index where it would be if it were inserted in order.\n",
    "\n",
    "You must write an algorithm with O(log n) runtime complexity\n",
    "\n",
    "**Example 1:**\n",
    "Input: nums = [1,3,5,6], target = 5\n",
    "\n",
    "Output: 2"
   ]
  },
  {
   "cell_type": "code",
   "execution_count": 23,
   "id": "297ffc70",
   "metadata": {},
   "outputs": [],
   "source": [
    "nums = [1,3,5,6]\n",
    "target = 5"
   ]
  },
  {
   "cell_type": "code",
   "execution_count": 24,
   "id": "a71c4d9e",
   "metadata": {},
   "outputs": [],
   "source": [
    "def searchInsert(nums, target):\n",
    "    left = 0\n",
    "    right = len(nums) - 1\n",
    "\n",
    "    while left <= right:\n",
    "        mid = (left + right) // 2\n",
    "        if nums[mid] == target:\n",
    "            return mid\n",
    "        elif nums[mid] < target:\n",
    "            left = mid + 1\n",
    "        else:\n",
    "            right = mid - 1\n",
    "\n",
    "    return left\n"
   ]
  },
  {
   "cell_type": "code",
   "execution_count": 25,
   "id": "79c599df",
   "metadata": {},
   "outputs": [
    {
     "data": {
      "text/plain": [
       "2"
      ]
     },
     "execution_count": 25,
     "metadata": {},
     "output_type": "execute_result"
    }
   ],
   "source": [
    "searchInsert(nums,target)"
   ]
  },
  {
   "cell_type": "markdown",
   "id": "f6665871",
   "metadata": {},
   "source": [
    "# Q4. You are given a large integer represented as an integer array digits, where each digits[i] is the ith digit of the integer. The digits are ordered from most significant to least significant in left-to-right order. The large integer does not contain any leading 0's.\n",
    "\n",
    "Increment the large integer by one and return the resulting array of digits.\n",
    "\n",
    "**Example 1:**\n",
    "Input: digits = [1,2,3]\n",
    "Output: [1,2,4]\n",
    "\n",
    "**Explanation:** The array represents the integer 123.\n",
    "\n",
    "Incrementing by one gives 123 + 1 = 124.\n",
    "Thus, the result should be [1,2,4]."
   ]
  },
  {
   "cell_type": "code",
   "execution_count": 20,
   "id": "4ecde761",
   "metadata": {},
   "outputs": [],
   "source": [
    "digits = [1,2,3]"
   ]
  },
  {
   "cell_type": "code",
   "execution_count": 21,
   "id": "0fc452f4",
   "metadata": {},
   "outputs": [],
   "source": [
    " def AddOne(digits):\n",
    "        dig_len = len(digits)\n",
    "        for i in reversed(range(dig_len)):\n",
    "            digits[i]+= 1\n",
    "            if digits[i]< 10:\n",
    "                return digits\n",
    "            else:\n",
    "                digits[i]=0        \n",
    "        digits.insert(0,1)\n",
    "        return digits"
   ]
  },
  {
   "cell_type": "code",
   "execution_count": 22,
   "id": "97e19167",
   "metadata": {},
   "outputs": [
    {
     "data": {
      "text/plain": [
       "[1, 2, 4]"
      ]
     },
     "execution_count": 22,
     "metadata": {},
     "output_type": "execute_result"
    }
   ],
   "source": [
    "AddOne(digits)"
   ]
  },
  {
   "cell_type": "markdown",
   "id": "b4fbe02b",
   "metadata": {},
   "source": [
    "# Q6. Given an integer array nums, return true if any value appears at least twice in the array, and return false if every element is distinct.\n",
    "\n",
    "**Example 1:**\n",
    "Input: nums = [1,2,3,1]\n",
    "\n",
    "Output: true"
   ]
  },
  {
   "cell_type": "code",
   "execution_count": 26,
   "id": "8b0a45cb",
   "metadata": {},
   "outputs": [],
   "source": [
    "nums = [1,2,3,1]"
   ]
  },
  {
   "cell_type": "code",
   "execution_count": 27,
   "id": "a3cb84ef",
   "metadata": {},
   "outputs": [],
   "source": [
    " def Duplicate(nums):\n",
    "        dup_ref = set()\n",
    "        for i in nums:\n",
    "            if i in dup_ref:\n",
    "                return True\n",
    "            dup_ref.add(i)\n",
    "        \n",
    "        return False"
   ]
  },
  {
   "cell_type": "code",
   "execution_count": 28,
   "id": "b7ed3338",
   "metadata": {},
   "outputs": [
    {
     "data": {
      "text/plain": [
       "True"
      ]
     },
     "execution_count": 28,
     "metadata": {},
     "output_type": "execute_result"
    }
   ],
   "source": [
    "Duplicate(nums)"
   ]
  },
  {
   "cell_type": "markdown",
   "id": "cd683b1d",
   "metadata": {},
   "source": [
    "# Q7. Given an integer array nums, move all 0's to the end of it while maintaining the relative order of the nonzero elements.\n",
    "\n",
    "Note that you must do this in-place without making a copy of the array.\n",
    "\n",
    "**Example 1:**\n",
    "Input: nums = [0,1,0,3,12]\n",
    "Output: [1,3,12,0,0]"
   ]
  },
  {
   "cell_type": "code",
   "execution_count": 32,
   "id": "2fbbbc06",
   "metadata": {},
   "outputs": [],
   "source": [
    "nums = [0,1,0,3,12]"
   ]
  },
  {
   "cell_type": "code",
   "execution_count": 33,
   "id": "4172950e",
   "metadata": {},
   "outputs": [],
   "source": [
    "def move_zeros(nums):\n",
    "    l = 0\n",
    "    for r in range(len(nums)):\n",
    "        if nums[r]:\n",
    "            nums[l],nums[r] = nums[r],nums[l]\n",
    "            l += 1    \n",
    "    return nums\n",
    "        "
   ]
  },
  {
   "cell_type": "code",
   "execution_count": 34,
   "id": "ca602fba",
   "metadata": {},
   "outputs": [
    {
     "data": {
      "text/plain": [
       "[1, 3, 12, 0, 0]"
      ]
     },
     "execution_count": 34,
     "metadata": {},
     "output_type": "execute_result"
    }
   ],
   "source": [
    "move_zeros(nums)"
   ]
  },
  {
   "cell_type": "code",
   "execution_count": null,
   "id": "fa8f859e",
   "metadata": {},
   "outputs": [],
   "source": []
  }
 ],
 "metadata": {
  "kernelspec": {
   "display_name": "Python 3 (ipykernel)",
   "language": "python",
   "name": "python3"
  },
  "language_info": {
   "codemirror_mode": {
    "name": "ipython",
    "version": 3
   },
   "file_extension": ".py",
   "mimetype": "text/x-python",
   "name": "python",
   "nbconvert_exporter": "python",
   "pygments_lexer": "ipython3",
   "version": "3.11.2"
  }
 },
 "nbformat": 4,
 "nbformat_minor": 5
}
